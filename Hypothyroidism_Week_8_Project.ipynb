{
  "nbformat": 4,
  "nbformat_minor": 0,
  "metadata": {
    "colab": {
      "name": "Hypothyroidism Week 8 Project.ipynb",
      "provenance": [],
      "collapsed_sections": [],
      "toc_visible": true,
      "authorship_tag": "ABX9TyPkD24lV+XAWNpwNnFVmHdk",
      "include_colab_link": true
    },
    "kernelspec": {
      "name": "python3",
      "display_name": "Python 3"
    },
    "language_info": {
      "name": "python"
    }
  },
  "cells": [
    {
      "cell_type": "markdown",
      "metadata": {
        "id": "view-in-github",
        "colab_type": "text"
      },
      "source": [
        "<a href=\"https://colab.research.google.com/github/ian-mutai0/Hypothyroidism-Project/blob/main/Hypothyroidism_Week_8_Project.ipynb\" target=\"_parent\"><img src=\"https://colab.research.google.com/assets/colab-badge.svg\" alt=\"Open In Colab\"/></a>"
      ]
    },
    {
      "cell_type": "markdown",
      "metadata": {
        "id": "kubmt9Dayihx"
      },
      "source": [
        "# HYPOTHYROIDISM PROJECT"
      ]
    },
    {
      "cell_type": "markdown",
      "metadata": {
        "id": "7xFW1zIgyiv4"
      },
      "source": [
        "# 1.0 Defining the Question"
      ]
    },
    {
      "cell_type": "markdown",
      "metadata": {
        "id": "1Zv7ZT2byiyF"
      },
      "source": [
        "> ## i) Specifying the data analytic question"
      ]
    },
    {
      "cell_type": "markdown",
      "metadata": {
        "id": "K0KRp1Dyyi01"
      },
      "source": [
        "Build a model that determines whether or not the patient's symptoms indicate that the patient has hypothyroid."
      ]
    },
    {
      "cell_type": "markdown",
      "metadata": {
        "id": "OL3MjF4qyi3M"
      },
      "source": [
        "> ## ii) Defining the metrics for success"
      ]
    },
    {
      "cell_type": "markdown",
      "metadata": {
        "id": "kqRosGuZyi8s"
      },
      "source": [
        "To be able to build a model that determines whether or not a patient has hypothyroid using : \n",
        "- Decision Trees\n",
        "- Support Vector Machines"
      ]
    },
    {
      "cell_type": "markdown",
      "metadata": {
        "id": "l54ADWNOyi-j"
      },
      "source": [
        "> ## iii) Understanding the context"
      ]
    },
    {
      "cell_type": "markdown",
      "metadata": {
        "id": "wm_EjSBqyjB4"
      },
      "source": [
        "- Hypothyroidism, also known as the underactive thyroid, is a condition where the thyroid gland doesn't produce enough thyroid hormone thus leading to disruption of the heart rate, body temperature and all other aspects of metabolism. Hypothyroidism is most prevalent in older women. \n",
        "- The Levothyroxine (T4) and Triiodothyronine (T3) hormones are produced by the thyroid gland and they play major role in converting nutrients into energy and thereby help in regulating body temperature, brain function and even the heart rate.\n",
        "- The amount of T3 and T4 hormones in the blood is controlled by the Thyroid Stimulating Hormone (TSH). \n",
        "- There are different thyroid function tests such as TSH, T3, T4U, Total T4 and Free T4 Index (FTI) that are done to assess the various functions related to the thyroid gland. \n",
        "- A low TSH and low T4 indicate secondary hypothyroidism while a high TSH and low T4 indicate primary hypothyroidism. \n",
        "- T3 tests are used for determining the severity of the hyperthyroidism or to diagnose the hyperthyroidism. "
      ]
    },
    {
      "cell_type": "markdown",
      "metadata": {
        "id": "pYF6F43d0JZ-"
      },
      "source": [
        "> ## iv) Recording the experimental design"
      ]
    },
    {
      "cell_type": "markdown",
      "metadata": {
        "id": "9ujiV4vK0PPQ"
      },
      "source": [
        "- Import the relevant libraries that we will use in our analysis\n",
        "- Read and explore the dataset we will use for our project\n",
        "- Define the appropriateness of the available data with regards to the project\n",
        "- Find and deal with outliers, anomalies, and missing data within the dataset. \n",
        "- Perform univariate, bivariate and multivariate analysis recording your observations.\n",
        "- Implement the solution by building models that can predict whether a patient has hypothyroidism or not.\n",
        " - For this section, we will build a model using the advanced decision trees such as Random Forest, Ada boost and/or the Gradient boosted trees and afterwards evaluate their performance\n",
        "  - Also, apply Polynomial, linear and rbf kernel functions to build your SVM model and then evaluate their performance\n",
        "- Challenge the solution by giving insights on how we can make improvements on the already chosen models\n",
        "- Give recommendations on which model is the best in predicting whether a person has hypothyroidism or not."
      ]
    },
    {
      "cell_type": "markdown",
      "metadata": {
        "id": "ukLLwb-a0Pyc"
      },
      "source": [
        "> ## v) Data Relevance"
      ]
    },
    {
      "cell_type": "markdown",
      "metadata": {
        "id": "afrbECFe0Wdx"
      },
      "source": [
        "- After previewing the dataset, we realize that we have the following columns e.g T3, T4 and the TSH hormones which are produced by the thyroid gland are all essential in helping us predict whether a patient has hypothyroidism or not. "
      ]
    },
    {
      "cell_type": "markdown",
      "metadata": {
        "id": "uhdYveJG0XW2"
      },
      "source": [
        "# 2.0 Importing the relevant libraries"
      ]
    },
    {
      "cell_type": "code",
      "metadata": {
        "id": "--5fkUj50dXW"
      },
      "source": [
        "import pandas as pd\n",
        "import numpy as np\n",
        "import seaborn as sns\n",
        "import matplotlib.pyplot as plt\n",
        "from sklearn import metrics"
      ],
      "execution_count": 1,
      "outputs": []
    },
    {
      "cell_type": "markdown",
      "metadata": {
        "id": "WPoyMxEU4Acu"
      },
      "source": [
        "# 3.0 Loading the Dataset"
      ]
    },
    {
      "cell_type": "code",
      "metadata": {
        "id": "p8eeGO9R32h4"
      },
      "source": [
        "# Reading the dataset\n",
        "hypo = pd.read_csv(\"/content/hypothyroid.csv\")"
      ],
      "execution_count": 2,
      "outputs": []
    },
    {
      "cell_type": "code",
      "metadata": {
        "colab": {
          "base_uri": "https://localhost:8080/",
          "height": 224
        },
        "id": "kxUZ2pUqRTWc",
        "outputId": "19a58000-9e42-4ae3-a4c7-0cdd52329805"
      },
      "source": [
        "# Top 5 records of the dataset\n",
        "hypo.head()"
      ],
      "execution_count": 3,
      "outputs": [
        {
          "output_type": "execute_result",
          "data": {
            "text/html": [
              "<div>\n",
              "<style scoped>\n",
              "    .dataframe tbody tr th:only-of-type {\n",
              "        vertical-align: middle;\n",
              "    }\n",
              "\n",
              "    .dataframe tbody tr th {\n",
              "        vertical-align: top;\n",
              "    }\n",
              "\n",
              "    .dataframe thead th {\n",
              "        text-align: right;\n",
              "    }\n",
              "</style>\n",
              "<table border=\"1\" class=\"dataframe\">\n",
              "  <thead>\n",
              "    <tr style=\"text-align: right;\">\n",
              "      <th></th>\n",
              "      <th>status</th>\n",
              "      <th>age</th>\n",
              "      <th>sex</th>\n",
              "      <th>on_thyroxine</th>\n",
              "      <th>query_on_thyroxine</th>\n",
              "      <th>on_antithyroid_medication</th>\n",
              "      <th>thyroid_surgery</th>\n",
              "      <th>query_hypothyroid</th>\n",
              "      <th>query_hyperthyroid</th>\n",
              "      <th>pregnant</th>\n",
              "      <th>sick</th>\n",
              "      <th>tumor</th>\n",
              "      <th>lithium</th>\n",
              "      <th>goitre</th>\n",
              "      <th>TSH_measured</th>\n",
              "      <th>TSH</th>\n",
              "      <th>T3_measured</th>\n",
              "      <th>T3</th>\n",
              "      <th>TT4_measured</th>\n",
              "      <th>TT4</th>\n",
              "      <th>T4U_measured</th>\n",
              "      <th>T4U</th>\n",
              "      <th>FTI_measured</th>\n",
              "      <th>FTI</th>\n",
              "      <th>TBG_measured</th>\n",
              "      <th>TBG</th>\n",
              "    </tr>\n",
              "  </thead>\n",
              "  <tbody>\n",
              "    <tr>\n",
              "      <th>0</th>\n",
              "      <td>hypothyroid</td>\n",
              "      <td>72</td>\n",
              "      <td>M</td>\n",
              "      <td>f</td>\n",
              "      <td>f</td>\n",
              "      <td>f</td>\n",
              "      <td>f</td>\n",
              "      <td>f</td>\n",
              "      <td>f</td>\n",
              "      <td>f</td>\n",
              "      <td>f</td>\n",
              "      <td>f</td>\n",
              "      <td>f</td>\n",
              "      <td>f</td>\n",
              "      <td>y</td>\n",
              "      <td>30</td>\n",
              "      <td>y</td>\n",
              "      <td>0.60</td>\n",
              "      <td>y</td>\n",
              "      <td>15</td>\n",
              "      <td>y</td>\n",
              "      <td>1.48</td>\n",
              "      <td>y</td>\n",
              "      <td>10</td>\n",
              "      <td>n</td>\n",
              "      <td>?</td>\n",
              "    </tr>\n",
              "    <tr>\n",
              "      <th>1</th>\n",
              "      <td>hypothyroid</td>\n",
              "      <td>15</td>\n",
              "      <td>F</td>\n",
              "      <td>t</td>\n",
              "      <td>f</td>\n",
              "      <td>f</td>\n",
              "      <td>f</td>\n",
              "      <td>f</td>\n",
              "      <td>f</td>\n",
              "      <td>f</td>\n",
              "      <td>f</td>\n",
              "      <td>f</td>\n",
              "      <td>f</td>\n",
              "      <td>f</td>\n",
              "      <td>y</td>\n",
              "      <td>145</td>\n",
              "      <td>y</td>\n",
              "      <td>1.70</td>\n",
              "      <td>y</td>\n",
              "      <td>19</td>\n",
              "      <td>y</td>\n",
              "      <td>1.13</td>\n",
              "      <td>y</td>\n",
              "      <td>17</td>\n",
              "      <td>n</td>\n",
              "      <td>?</td>\n",
              "    </tr>\n",
              "    <tr>\n",
              "      <th>2</th>\n",
              "      <td>hypothyroid</td>\n",
              "      <td>24</td>\n",
              "      <td>M</td>\n",
              "      <td>f</td>\n",
              "      <td>f</td>\n",
              "      <td>f</td>\n",
              "      <td>f</td>\n",
              "      <td>f</td>\n",
              "      <td>f</td>\n",
              "      <td>f</td>\n",
              "      <td>f</td>\n",
              "      <td>f</td>\n",
              "      <td>f</td>\n",
              "      <td>f</td>\n",
              "      <td>y</td>\n",
              "      <td>0</td>\n",
              "      <td>y</td>\n",
              "      <td>0.20</td>\n",
              "      <td>y</td>\n",
              "      <td>4</td>\n",
              "      <td>y</td>\n",
              "      <td>1</td>\n",
              "      <td>y</td>\n",
              "      <td>0</td>\n",
              "      <td>n</td>\n",
              "      <td>?</td>\n",
              "    </tr>\n",
              "    <tr>\n",
              "      <th>3</th>\n",
              "      <td>hypothyroid</td>\n",
              "      <td>24</td>\n",
              "      <td>F</td>\n",
              "      <td>f</td>\n",
              "      <td>f</td>\n",
              "      <td>f</td>\n",
              "      <td>f</td>\n",
              "      <td>f</td>\n",
              "      <td>f</td>\n",
              "      <td>f</td>\n",
              "      <td>f</td>\n",
              "      <td>f</td>\n",
              "      <td>f</td>\n",
              "      <td>f</td>\n",
              "      <td>y</td>\n",
              "      <td>430</td>\n",
              "      <td>y</td>\n",
              "      <td>0.40</td>\n",
              "      <td>y</td>\n",
              "      <td>6</td>\n",
              "      <td>y</td>\n",
              "      <td>1.04</td>\n",
              "      <td>y</td>\n",
              "      <td>6</td>\n",
              "      <td>n</td>\n",
              "      <td>?</td>\n",
              "    </tr>\n",
              "    <tr>\n",
              "      <th>4</th>\n",
              "      <td>hypothyroid</td>\n",
              "      <td>77</td>\n",
              "      <td>M</td>\n",
              "      <td>f</td>\n",
              "      <td>f</td>\n",
              "      <td>f</td>\n",
              "      <td>f</td>\n",
              "      <td>f</td>\n",
              "      <td>f</td>\n",
              "      <td>f</td>\n",
              "      <td>f</td>\n",
              "      <td>f</td>\n",
              "      <td>f</td>\n",
              "      <td>f</td>\n",
              "      <td>y</td>\n",
              "      <td>7.30</td>\n",
              "      <td>y</td>\n",
              "      <td>1.20</td>\n",
              "      <td>y</td>\n",
              "      <td>57</td>\n",
              "      <td>y</td>\n",
              "      <td>1.28</td>\n",
              "      <td>y</td>\n",
              "      <td>44</td>\n",
              "      <td>n</td>\n",
              "      <td>?</td>\n",
              "    </tr>\n",
              "  </tbody>\n",
              "</table>\n",
              "</div>"
            ],
            "text/plain": [
              "        status age sex on_thyroxine  ... FTI_measured FTI TBG_measured TBG\n",
              "0  hypothyroid  72   M            f  ...            y  10            n   ?\n",
              "1  hypothyroid  15   F            t  ...            y  17            n   ?\n",
              "2  hypothyroid  24   M            f  ...            y   0            n   ?\n",
              "3  hypothyroid  24   F            f  ...            y   6            n   ?\n",
              "4  hypothyroid  77   M            f  ...            y  44            n   ?\n",
              "\n",
              "[5 rows x 26 columns]"
            ]
          },
          "metadata": {
            "tags": []
          },
          "execution_count": 3
        }
      ]
    },
    {
      "cell_type": "code",
      "metadata": {
        "colab": {
          "base_uri": "https://localhost:8080/",
          "height": 224
        },
        "id": "fzpb7MR4SFsD",
        "outputId": "aa4813d5-50e2-4ca4-b2e8-24fa661f0e92"
      },
      "source": [
        "# Bottom 5 records of the dataset\n",
        "hypo.tail()"
      ],
      "execution_count": null,
      "outputs": [
        {
          "output_type": "execute_result",
          "data": {
            "text/html": [
              "<div>\n",
              "<style scoped>\n",
              "    .dataframe tbody tr th:only-of-type {\n",
              "        vertical-align: middle;\n",
              "    }\n",
              "\n",
              "    .dataframe tbody tr th {\n",
              "        vertical-align: top;\n",
              "    }\n",
              "\n",
              "    .dataframe thead th {\n",
              "        text-align: right;\n",
              "    }\n",
              "</style>\n",
              "<table border=\"1\" class=\"dataframe\">\n",
              "  <thead>\n",
              "    <tr style=\"text-align: right;\">\n",
              "      <th></th>\n",
              "      <th>status</th>\n",
              "      <th>age</th>\n",
              "      <th>sex</th>\n",
              "      <th>on_thyroxine</th>\n",
              "      <th>query_on_thyroxine</th>\n",
              "      <th>on_antithyroid_medication</th>\n",
              "      <th>thyroid_surgery</th>\n",
              "      <th>query_hypothyroid</th>\n",
              "      <th>query_hyperthyroid</th>\n",
              "      <th>pregnant</th>\n",
              "      <th>sick</th>\n",
              "      <th>tumor</th>\n",
              "      <th>lithium</th>\n",
              "      <th>goitre</th>\n",
              "      <th>TSH_measured</th>\n",
              "      <th>TSH</th>\n",
              "      <th>T3_measured</th>\n",
              "      <th>T3</th>\n",
              "      <th>TT4_measured</th>\n",
              "      <th>TT4</th>\n",
              "      <th>T4U_measured</th>\n",
              "      <th>T4U</th>\n",
              "      <th>FTI_measured</th>\n",
              "      <th>FTI</th>\n",
              "      <th>TBG_measured</th>\n",
              "      <th>TBG</th>\n",
              "    </tr>\n",
              "  </thead>\n",
              "  <tbody>\n",
              "    <tr>\n",
              "      <th>3158</th>\n",
              "      <td>negative</td>\n",
              "      <td>58</td>\n",
              "      <td>F</td>\n",
              "      <td>f</td>\n",
              "      <td>f</td>\n",
              "      <td>f</td>\n",
              "      <td>f</td>\n",
              "      <td>f</td>\n",
              "      <td>f</td>\n",
              "      <td>f</td>\n",
              "      <td>f</td>\n",
              "      <td>f</td>\n",
              "      <td>f</td>\n",
              "      <td>f</td>\n",
              "      <td>y</td>\n",
              "      <td>5.80</td>\n",
              "      <td>y</td>\n",
              "      <td>1.70</td>\n",
              "      <td>y</td>\n",
              "      <td>86</td>\n",
              "      <td>y</td>\n",
              "      <td>0.91</td>\n",
              "      <td>y</td>\n",
              "      <td>95</td>\n",
              "      <td>n</td>\n",
              "      <td>?</td>\n",
              "    </tr>\n",
              "    <tr>\n",
              "      <th>3159</th>\n",
              "      <td>negative</td>\n",
              "      <td>29</td>\n",
              "      <td>F</td>\n",
              "      <td>f</td>\n",
              "      <td>f</td>\n",
              "      <td>f</td>\n",
              "      <td>f</td>\n",
              "      <td>f</td>\n",
              "      <td>f</td>\n",
              "      <td>f</td>\n",
              "      <td>f</td>\n",
              "      <td>f</td>\n",
              "      <td>f</td>\n",
              "      <td>f</td>\n",
              "      <td>y</td>\n",
              "      <td>0.80</td>\n",
              "      <td>y</td>\n",
              "      <td>1.80</td>\n",
              "      <td>y</td>\n",
              "      <td>99</td>\n",
              "      <td>y</td>\n",
              "      <td>1.01</td>\n",
              "      <td>y</td>\n",
              "      <td>98</td>\n",
              "      <td>n</td>\n",
              "      <td>?</td>\n",
              "    </tr>\n",
              "    <tr>\n",
              "      <th>3160</th>\n",
              "      <td>negative</td>\n",
              "      <td>77</td>\n",
              "      <td>M</td>\n",
              "      <td>f</td>\n",
              "      <td>f</td>\n",
              "      <td>f</td>\n",
              "      <td>f</td>\n",
              "      <td>f</td>\n",
              "      <td>f</td>\n",
              "      <td>f</td>\n",
              "      <td>f</td>\n",
              "      <td>f</td>\n",
              "      <td>f</td>\n",
              "      <td>f</td>\n",
              "      <td>y</td>\n",
              "      <td>1.20</td>\n",
              "      <td>y</td>\n",
              "      <td>0.60</td>\n",
              "      <td>y</td>\n",
              "      <td>71</td>\n",
              "      <td>y</td>\n",
              "      <td>0.68</td>\n",
              "      <td>y</td>\n",
              "      <td>104</td>\n",
              "      <td>n</td>\n",
              "      <td>?</td>\n",
              "    </tr>\n",
              "    <tr>\n",
              "      <th>3161</th>\n",
              "      <td>negative</td>\n",
              "      <td>74</td>\n",
              "      <td>F</td>\n",
              "      <td>f</td>\n",
              "      <td>f</td>\n",
              "      <td>f</td>\n",
              "      <td>f</td>\n",
              "      <td>f</td>\n",
              "      <td>f</td>\n",
              "      <td>f</td>\n",
              "      <td>f</td>\n",
              "      <td>f</td>\n",
              "      <td>f</td>\n",
              "      <td>f</td>\n",
              "      <td>y</td>\n",
              "      <td>1.30</td>\n",
              "      <td>y</td>\n",
              "      <td>0.10</td>\n",
              "      <td>y</td>\n",
              "      <td>65</td>\n",
              "      <td>y</td>\n",
              "      <td>0.48</td>\n",
              "      <td>y</td>\n",
              "      <td>137</td>\n",
              "      <td>n</td>\n",
              "      <td>?</td>\n",
              "    </tr>\n",
              "    <tr>\n",
              "      <th>3162</th>\n",
              "      <td>negative</td>\n",
              "      <td>56</td>\n",
              "      <td>F</td>\n",
              "      <td>t</td>\n",
              "      <td>f</td>\n",
              "      <td>f</td>\n",
              "      <td>f</td>\n",
              "      <td>f</td>\n",
              "      <td>f</td>\n",
              "      <td>f</td>\n",
              "      <td>f</td>\n",
              "      <td>f</td>\n",
              "      <td>f</td>\n",
              "      <td>f</td>\n",
              "      <td>y</td>\n",
              "      <td>0</td>\n",
              "      <td>y</td>\n",
              "      <td>1.80</td>\n",
              "      <td>y</td>\n",
              "      <td>139</td>\n",
              "      <td>y</td>\n",
              "      <td>0.97</td>\n",
              "      <td>y</td>\n",
              "      <td>143</td>\n",
              "      <td>n</td>\n",
              "      <td>?</td>\n",
              "    </tr>\n",
              "  </tbody>\n",
              "</table>\n",
              "</div>"
            ],
            "text/plain": [
              "        status age sex on_thyroxine  ... FTI_measured  FTI TBG_measured TBG\n",
              "3158  negative  58   F            f  ...            y   95            n   ?\n",
              "3159  negative  29   F            f  ...            y   98            n   ?\n",
              "3160  negative  77   M            f  ...            y  104            n   ?\n",
              "3161  negative  74   F            f  ...            y  137            n   ?\n",
              "3162  negative  56   F            t  ...            y  143            n   ?\n",
              "\n",
              "[5 rows x 26 columns]"
            ]
          },
          "metadata": {
            "tags": []
          },
          "execution_count": 8
        }
      ]
    },
    {
      "cell_type": "code",
      "metadata": {
        "colab": {
          "base_uri": "https://localhost:8080/"
        },
        "id": "0_i1zqdESWdD",
        "outputId": "0b993880-539f-4fde-e71a-31db47f099a2"
      },
      "source": [
        "# Checking for the number of unique values in each column\n",
        "hypo[['status','sex','on_thyroxine','query_on_thyroxine','on_antithyroid_medication','thyroid_surgery','query_hypothyroid','query_hyperthyroid','pregnant','sick','tumor','lithium','goitre','TSH_measured','TSH','T3_measured','T3','TT4_measured','TT4','T4U_measured','T4U','FTI_measured','FTI','TBG_measured','TBG']].nunique()"
      ],
      "execution_count": 4,
      "outputs": [
        {
          "output_type": "execute_result",
          "data": {
            "text/plain": [
              "status                         2\n",
              "sex                            3\n",
              "on_thyroxine                   2\n",
              "query_on_thyroxine             2\n",
              "on_antithyroid_medication      2\n",
              "thyroid_surgery                2\n",
              "query_hypothyroid              2\n",
              "query_hyperthyroid             2\n",
              "pregnant                       2\n",
              "sick                           2\n",
              "tumor                          2\n",
              "lithium                        2\n",
              "goitre                         2\n",
              "TSH_measured                   2\n",
              "TSH                          240\n",
              "T3_measured                    2\n",
              "T3                            70\n",
              "TT4_measured                   2\n",
              "TT4                          269\n",
              "T4U_measured                   2\n",
              "T4U                          159\n",
              "FTI_measured                   2\n",
              "FTI                          281\n",
              "TBG_measured                   2\n",
              "TBG                           53\n",
              "dtype: int64"
            ]
          },
          "metadata": {
            "tags": []
          },
          "execution_count": 4
        }
      ]
    },
    {
      "cell_type": "code",
      "metadata": {
        "colab": {
          "base_uri": "https://localhost:8080/"
        },
        "id": "vrcUGVCpnsK2",
        "outputId": "ef9c9feb-8595-43c3-c710-d8873d8bc68e"
      },
      "source": [
        "# Since we only have two genders/sex, we go ahead to check the other gender represented in our data\n",
        "hypo['sex'].unique()\n",
        "\n",
        "# We have established that we might have some missing values, represented as ? in our dataset\n",
        "# We shall deal with them later on during data cleaning"
      ],
      "execution_count": 5,
      "outputs": [
        {
          "output_type": "execute_result",
          "data": {
            "text/plain": [
              "array(['M', 'F', '?'], dtype=object)"
            ]
          },
          "metadata": {
            "tags": []
          },
          "execution_count": 5
        },
        {
          "output_type": "execute_result",
          "data": {
            "text/plain": [
              "array(['M', 'F', '?'], dtype=object)"
            ]
          },
          "metadata": {
            "tags": []
          },
          "execution_count": 6
        }
      ]
    },
    {
      "cell_type": "code",
      "metadata": {
        "colab": {
          "base_uri": "https://localhost:8080/"
        },
        "id": "Y9T9go5LP9Yz",
        "outputId": "4aa6ef64-5696-4e1d-a3ab-ee006835d100"
      },
      "source": [
        "# Checking the number of rows and columns in our dataset\n",
        "hypo.shape"
      ],
      "execution_count": null,
      "outputs": [
        {
          "output_type": "execute_result",
          "data": {
            "text/plain": [
              "(3163, 26)"
            ]
          },
          "metadata": {
            "tags": []
          },
          "execution_count": 10
        }
      ]
    },
    {
      "cell_type": "code",
      "metadata": {
        "colab": {
          "base_uri": "https://localhost:8080/"
        },
        "id": "Wp0jeENbQKGO",
        "outputId": "c4ca14d1-1b45-4b7c-8894-8397464439e3"
      },
      "source": [
        "# Checking the information on our dataset\n",
        "hypo.info()"
      ],
      "execution_count": null,
      "outputs": [
        {
          "output_type": "stream",
          "text": [
            "<class 'pandas.core.frame.DataFrame'>\n",
            "RangeIndex: 3163 entries, 0 to 3162\n",
            "Data columns (total 26 columns):\n",
            " #   Column                     Non-Null Count  Dtype \n",
            "---  ------                     --------------  ----- \n",
            " 0   status                     3163 non-null   object\n",
            " 1   age                        3163 non-null   object\n",
            " 2   sex                        3163 non-null   object\n",
            " 3   on_thyroxine               3163 non-null   object\n",
            " 4   query_on_thyroxine         3163 non-null   object\n",
            " 5   on_antithyroid_medication  3163 non-null   object\n",
            " 6   thyroid_surgery            3163 non-null   object\n",
            " 7   query_hypothyroid          3163 non-null   object\n",
            " 8   query_hyperthyroid         3163 non-null   object\n",
            " 9   pregnant                   3163 non-null   object\n",
            " 10  sick                       3163 non-null   object\n",
            " 11  tumor                      3163 non-null   object\n",
            " 12  lithium                    3163 non-null   object\n",
            " 13  goitre                     3163 non-null   object\n",
            " 14  TSH_measured               3163 non-null   object\n",
            " 15  TSH                        3163 non-null   object\n",
            " 16  T3_measured                3163 non-null   object\n",
            " 17  T3                         3163 non-null   object\n",
            " 18  TT4_measured               3163 non-null   object\n",
            " 19  TT4                        3163 non-null   object\n",
            " 20  T4U_measured               3163 non-null   object\n",
            " 21  T4U                        3163 non-null   object\n",
            " 22  FTI_measured               3163 non-null   object\n",
            " 23  FTI                        3163 non-null   object\n",
            " 24  TBG_measured               3163 non-null   object\n",
            " 25  TBG                        3163 non-null   object\n",
            "dtypes: object(26)\n",
            "memory usage: 642.6+ KB\n"
          ],
          "name": "stdout"
        }
      ]
    },
    {
      "cell_type": "markdown",
      "metadata": {
        "id": "RFILlTtlQkRR"
      },
      "source": [
        "# 4.0 Cleaning the dataset"
      ]
    },
    {
      "cell_type": "markdown",
      "metadata": {
        "id": "dIykgzpYQ-0M"
      },
      "source": [
        "> ## i) Validity"
      ]
    },
    {
      "cell_type": "code",
      "metadata": {
        "id": "buTY5aa6QYBq"
      },
      "source": [
        "# Dropping the unnecessary columns\n",
        "hypo.drop(['TBG','TBG_measured'], axis = 1, inplace=True)"
      ],
      "execution_count": 7,
      "outputs": []
    },
    {
      "cell_type": "markdown",
      "metadata": {
        "id": "dNGigTSx3nWh"
      },
      "source": [
        "> ## ii) Accuracy"
      ]
    },
    {
      "cell_type": "code",
      "metadata": {
        "id": "9vrldci_3sFY"
      },
      "source": [
        ""
      ],
      "execution_count": null,
      "outputs": []
    },
    {
      "cell_type": "markdown",
      "metadata": {
        "id": "e88oPrqe3zQB"
      },
      "source": [
        "> ## iii) Completeness"
      ]
    },
    {
      "cell_type": "code",
      "metadata": {
        "id": "5-81Eiu13499"
      },
      "source": [
        "# Checking for null/missing values\n",
        "hypo.isnull().any()\n",
        "# We can conclude that there were no null values in our data\n",
        "\n",
        "# After exploring the data, I realized that there were ? marks \n",
        "# which we can assume were due to some missing values during the data collection phase\n",
        "# We can go ahead and fill them with 0 for now \n",
        "hypo = hypo.replace(['?'], 0)"
      ],
      "execution_count": 8,
      "outputs": []
    },
    {
      "cell_type": "markdown",
      "metadata": {
        "id": "4QUGOmen4CYA"
      },
      "source": [
        "> ## iv) Consistency"
      ]
    },
    {
      "cell_type": "code",
      "metadata": {
        "colab": {
          "base_uri": "https://localhost:8080/"
        },
        "id": "OsWrz-6V4AOd",
        "outputId": "044f23ab-dccb-4b81-8505-efe0f3de14ff"
      },
      "source": [
        "# Checking for duplicate values\n",
        "hypo.duplicated().any()"
      ],
      "execution_count": 9,
      "outputs": [
        {
          "output_type": "execute_result",
          "data": {
            "text/plain": [
              "True"
            ]
          },
          "metadata": {
            "tags": []
          },
          "execution_count": 9
        }
      ]
    },
    {
      "cell_type": "code",
      "metadata": {
        "id": "1kyOOVHe4RXT"
      },
      "source": [
        "# Dropping duplicated values\n",
        "hypo.drop_duplicates(inplace=True)"
      ],
      "execution_count": 10,
      "outputs": []
    },
    {
      "cell_type": "markdown",
      "metadata": {
        "id": "SikU2kVe47iK"
      },
      "source": [
        "> ## v) Uniformity"
      ]
    },
    {
      "cell_type": "code",
      "metadata": {
        "colab": {
          "base_uri": "https://localhost:8080/",
          "height": 224
        },
        "id": "4Y8KThqZ46NV",
        "outputId": "464c7c83-6665-4b01-d181-817ecf13e28f"
      },
      "source": [
        "# Changing column names to lower case and placing underscore to make the column names uniform in the Hypothyroidism dataset\n",
        "hypo.columns = hypo.columns.str.strip().str.lower().str.replace(' ', '_').str.replace('(', '').str.replace(')', '')\n",
        "hypo.head()"
      ],
      "execution_count": 11,
      "outputs": [
        {
          "output_type": "execute_result",
          "data": {
            "text/html": [
              "<div>\n",
              "<style scoped>\n",
              "    .dataframe tbody tr th:only-of-type {\n",
              "        vertical-align: middle;\n",
              "    }\n",
              "\n",
              "    .dataframe tbody tr th {\n",
              "        vertical-align: top;\n",
              "    }\n",
              "\n",
              "    .dataframe thead th {\n",
              "        text-align: right;\n",
              "    }\n",
              "</style>\n",
              "<table border=\"1\" class=\"dataframe\">\n",
              "  <thead>\n",
              "    <tr style=\"text-align: right;\">\n",
              "      <th></th>\n",
              "      <th>status</th>\n",
              "      <th>age</th>\n",
              "      <th>sex</th>\n",
              "      <th>on_thyroxine</th>\n",
              "      <th>query_on_thyroxine</th>\n",
              "      <th>on_antithyroid_medication</th>\n",
              "      <th>thyroid_surgery</th>\n",
              "      <th>query_hypothyroid</th>\n",
              "      <th>query_hyperthyroid</th>\n",
              "      <th>pregnant</th>\n",
              "      <th>sick</th>\n",
              "      <th>tumor</th>\n",
              "      <th>lithium</th>\n",
              "      <th>goitre</th>\n",
              "      <th>tsh_measured</th>\n",
              "      <th>tsh</th>\n",
              "      <th>t3_measured</th>\n",
              "      <th>t3</th>\n",
              "      <th>tt4_measured</th>\n",
              "      <th>tt4</th>\n",
              "      <th>t4u_measured</th>\n",
              "      <th>t4u</th>\n",
              "      <th>fti_measured</th>\n",
              "      <th>fti</th>\n",
              "    </tr>\n",
              "  </thead>\n",
              "  <tbody>\n",
              "    <tr>\n",
              "      <th>0</th>\n",
              "      <td>hypothyroid</td>\n",
              "      <td>72</td>\n",
              "      <td>M</td>\n",
              "      <td>f</td>\n",
              "      <td>f</td>\n",
              "      <td>f</td>\n",
              "      <td>f</td>\n",
              "      <td>f</td>\n",
              "      <td>f</td>\n",
              "      <td>f</td>\n",
              "      <td>f</td>\n",
              "      <td>f</td>\n",
              "      <td>f</td>\n",
              "      <td>f</td>\n",
              "      <td>y</td>\n",
              "      <td>30</td>\n",
              "      <td>y</td>\n",
              "      <td>0.60</td>\n",
              "      <td>y</td>\n",
              "      <td>15</td>\n",
              "      <td>y</td>\n",
              "      <td>1.48</td>\n",
              "      <td>y</td>\n",
              "      <td>10</td>\n",
              "    </tr>\n",
              "    <tr>\n",
              "      <th>1</th>\n",
              "      <td>hypothyroid</td>\n",
              "      <td>15</td>\n",
              "      <td>F</td>\n",
              "      <td>t</td>\n",
              "      <td>f</td>\n",
              "      <td>f</td>\n",
              "      <td>f</td>\n",
              "      <td>f</td>\n",
              "      <td>f</td>\n",
              "      <td>f</td>\n",
              "      <td>f</td>\n",
              "      <td>f</td>\n",
              "      <td>f</td>\n",
              "      <td>f</td>\n",
              "      <td>y</td>\n",
              "      <td>145</td>\n",
              "      <td>y</td>\n",
              "      <td>1.70</td>\n",
              "      <td>y</td>\n",
              "      <td>19</td>\n",
              "      <td>y</td>\n",
              "      <td>1.13</td>\n",
              "      <td>y</td>\n",
              "      <td>17</td>\n",
              "    </tr>\n",
              "    <tr>\n",
              "      <th>2</th>\n",
              "      <td>hypothyroid</td>\n",
              "      <td>24</td>\n",
              "      <td>M</td>\n",
              "      <td>f</td>\n",
              "      <td>f</td>\n",
              "      <td>f</td>\n",
              "      <td>f</td>\n",
              "      <td>f</td>\n",
              "      <td>f</td>\n",
              "      <td>f</td>\n",
              "      <td>f</td>\n",
              "      <td>f</td>\n",
              "      <td>f</td>\n",
              "      <td>f</td>\n",
              "      <td>y</td>\n",
              "      <td>0</td>\n",
              "      <td>y</td>\n",
              "      <td>0.20</td>\n",
              "      <td>y</td>\n",
              "      <td>4</td>\n",
              "      <td>y</td>\n",
              "      <td>1</td>\n",
              "      <td>y</td>\n",
              "      <td>0</td>\n",
              "    </tr>\n",
              "    <tr>\n",
              "      <th>3</th>\n",
              "      <td>hypothyroid</td>\n",
              "      <td>24</td>\n",
              "      <td>F</td>\n",
              "      <td>f</td>\n",
              "      <td>f</td>\n",
              "      <td>f</td>\n",
              "      <td>f</td>\n",
              "      <td>f</td>\n",
              "      <td>f</td>\n",
              "      <td>f</td>\n",
              "      <td>f</td>\n",
              "      <td>f</td>\n",
              "      <td>f</td>\n",
              "      <td>f</td>\n",
              "      <td>y</td>\n",
              "      <td>430</td>\n",
              "      <td>y</td>\n",
              "      <td>0.40</td>\n",
              "      <td>y</td>\n",
              "      <td>6</td>\n",
              "      <td>y</td>\n",
              "      <td>1.04</td>\n",
              "      <td>y</td>\n",
              "      <td>6</td>\n",
              "    </tr>\n",
              "    <tr>\n",
              "      <th>4</th>\n",
              "      <td>hypothyroid</td>\n",
              "      <td>77</td>\n",
              "      <td>M</td>\n",
              "      <td>f</td>\n",
              "      <td>f</td>\n",
              "      <td>f</td>\n",
              "      <td>f</td>\n",
              "      <td>f</td>\n",
              "      <td>f</td>\n",
              "      <td>f</td>\n",
              "      <td>f</td>\n",
              "      <td>f</td>\n",
              "      <td>f</td>\n",
              "      <td>f</td>\n",
              "      <td>y</td>\n",
              "      <td>7.30</td>\n",
              "      <td>y</td>\n",
              "      <td>1.20</td>\n",
              "      <td>y</td>\n",
              "      <td>57</td>\n",
              "      <td>y</td>\n",
              "      <td>1.28</td>\n",
              "      <td>y</td>\n",
              "      <td>44</td>\n",
              "    </tr>\n",
              "  </tbody>\n",
              "</table>\n",
              "</div>"
            ],
            "text/plain": [
              "        status age sex on_thyroxine  ... t4u_measured   t4u fti_measured fti\n",
              "0  hypothyroid  72   M            f  ...            y  1.48            y  10\n",
              "1  hypothyroid  15   F            t  ...            y  1.13            y  17\n",
              "2  hypothyroid  24   M            f  ...            y     1            y   0\n",
              "3  hypothyroid  24   F            f  ...            y  1.04            y   6\n",
              "4  hypothyroid  77   M            f  ...            y  1.28            y  44\n",
              "\n",
              "[5 rows x 24 columns]"
            ]
          },
          "metadata": {
            "tags": []
          },
          "execution_count": 11
        }
      ]
    },
    {
      "cell_type": "code",
      "metadata": {
        "id": "wtYYP7l471Rx"
      },
      "source": [
        "# Creating a list of the numerical columns in the dataset.\n",
        "numerical_variables = ['age', 'fti', 't3', 't4u', 'tsh', 'tt4']\n",
        "\n",
        "for i in hypo.columns:\n",
        "   if i in numerical_variables:\n",
        "       hypo[i]=pd.to_numeric(hypo[i])\n",
        "   else:\n",
        "        hypo[i]=hypo[i].astype('category')"
      ],
      "execution_count": 12,
      "outputs": []
    },
    {
      "cell_type": "code",
      "metadata": {
        "id": "XQ-8DXn_6COZ"
      },
      "source": [
        "# After inspecting the dataset, I realized that there were ? marks on some of the numerical columns\n",
        "# which we can assume were missing values so we can fill them with the mean of the respective columns\n",
        "# since filling with 0 as we did earlier would distort our data considering it is a medical dataset\n",
        "# On the gender/sex column, we fill the ? with the mode \n",
        "sex_mode = hypo['sex'].mode()\n",
        "age_mean = hypo['age'].mean()\n",
        "tsh_mean = hypo['tsh'].mean()\n",
        "t3_mean = hypo['t3'].mean()\n",
        "tt4_mean = hypo['tt4'].mean()\n",
        "t4u_mean = hypo['t4u'].mean()\n",
        "fti_mean = hypo['fti'].mean()\n",
        "\n",
        "# We go ahead to replace the ? marks with the mean of the columns\n",
        "hypo['sex'] = hypo['sex'].replace([0], sex_mode )\n",
        "hypo['age'] = hypo['age'].replace([0], age_mean)\n",
        "hypo['tsh'] = hypo['tsh'].replace([0], tsh_mean)\n",
        "hypo['t3'] = hypo['t3'].replace([0], t3_mean)\n",
        "hypo['tt4'] = hypo['tt4'].replace([0], tt4_mean)\n",
        "hypo['t4u'] = hypo['t4u'].replace([0], t4u_mean)\n",
        "hypo['fti'] = hypo['fti'].replace([0], fti_mean)"
      ],
      "execution_count": 13,
      "outputs": []
    },
    {
      "cell_type": "markdown",
      "metadata": {
        "id": "tY2CbTBfxZAf"
      },
      "source": [
        "# 5.0 Exploratory Data Analysis"
      ]
    },
    {
      "cell_type": "markdown",
      "metadata": {
        "id": "cFc9rYTvxgKV"
      },
      "source": [
        "## 5.1 Univariate Data Analysis"
      ]
    },
    {
      "cell_type": "markdown",
      "metadata": {
        "id": "gR__zGMVqe4j"
      },
      "source": [
        "### 5.1.1 Categorical Variables"
      ]
    },
    {
      "cell_type": "markdown",
      "metadata": {
        "id": "ERB75XO9uLLs"
      },
      "source": [
        "> #### i) Frequency Tables"
      ]
    },
    {
      "cell_type": "code",
      "metadata": {
        "id": "-TiMTMn8xsAW",
        "colab": {
          "base_uri": "https://localhost:8080/"
        },
        "outputId": "b3ebc806-8818-4e1e-f9d8-6f0d52006a48"
      },
      "source": [
        "# Frequency Tables\n",
        "status = hypo.status.value_counts()\n",
        "print(\"The frequency table of the status is: \\n\", status)\n",
        "print(\"\\n\")\n",
        "\n",
        "sex = hypo.sex.value_counts()\n",
        "print(\"The frequency table of the gender is: \\n\", sex)\n",
        "print(\"\\n\")"
      ],
      "execution_count": 15,
      "outputs": [
        {
          "output_type": "stream",
          "text": [
            "The frequency table of the status is: \n",
            " negative       2870\n",
            "hypothyroid     141\n",
            "Name: status, dtype: int64\n",
            "\n",
            "\n",
            "The frequency table of the gender is: \n",
            " F    2122\n",
            "M     889\n",
            "Name: sex, dtype: int64\n",
            "\n",
            "\n"
          ],
          "name": "stdout"
        }
      ]
    },
    {
      "cell_type": "markdown",
      "metadata": {
        "id": "mtmZy_hZ4jcN"
      },
      "source": [
        "> #### ii) Histograms"
      ]
    },
    {
      "cell_type": "code",
      "metadata": {
        "colab": {
          "base_uri": "https://localhost:8080/",
          "height": 386
        },
        "id": "EPqmAZd94pFo",
        "outputId": "4a3a405b-19a4-4d8d-b4b8-2e1bd8874b4f"
      },
      "source": [
        "# Histogram of the sex in the hypothyroidism dataset\n",
        "sns.displot(data=hypo['sex'])"
      ],
      "execution_count": 39,
      "outputs": [
        {
          "output_type": "execute_result",
          "data": {
            "text/plain": [
              "<seaborn.axisgrid.FacetGrid at 0x7fa36391ffd0>"
            ]
          },
          "metadata": {
            "tags": []
          },
          "execution_count": 39
        },
        {
          "output_type": "display_data",
          "data": {
            "image/png": "[encoded data removed]",
            "text/plain": [
              "<Figure size 360x360 with 1 Axes>"
            ]
          },
          "metadata": {
            "tags": [],
            "needs_background": "light"
          }
        }
      ]
    },
    {
      "cell_type": "code",
      "metadata": {
        "colab": {
          "base_uri": "https://localhost:8080/",
          "height": 386
        },
        "id": "tveTSkt15rcT",
        "outputId": "9ab1b3b1-ad75-4d4d-9454-b33417c43745"
      },
      "source": [
        "# Histogram of the total count of people with hypothyroidism\n",
        "sns.displot(hypo['status'])"
      ],
      "execution_count": 40,
      "outputs": [
        {
          "output_type": "execute_result",
          "data": {
            "text/plain": [
              "<seaborn.axisgrid.FacetGrid at 0x7fa363e856d0>"
            ]
          },
          "metadata": {
            "tags": []
          },
          "execution_count": 40
        },
        {
          "output_type": "display_data",
          "data": {
            "image/png": "[encoded data removed]",
            "text/plain": [
              "<Figure size 360x360 with 1 Axes>"
            ]
          },
          "metadata": {
            "tags": [],
            "needs_background": "light"
          }
        }
      ]
    },
    {
      "cell_type": "markdown",
      "metadata": {
        "id": "dmzkkpAP377v"
      },
      "source": [
        "From the above categorical analysis, we can conclude: \n",
        "- Majority of the patients in our dataset are female.\n",
        "- Majority of the patients tested negative for hypothyroidism. "
      ]
    },
    {
      "cell_type": "markdown",
      "metadata": {
        "id": "6qwLR_MrwXvn"
      },
      "source": [
        "### 5.1.2 Numerical Variables"
      ]
    },
    {
      "cell_type": "markdown",
      "metadata": {
        "id": "8w_PA0s1wptm"
      },
      "source": [
        "> #### i) Measures of Central Tendency"
      ]
    },
    {
      "cell_type": "code",
      "metadata": {
        "colab": {
          "base_uri": "https://localhost:8080/"
        },
        "id": "QErWYbUfwfvz",
        "outputId": "18b99ffe-1a1a-44f4-d231-f3ec047db6f6"
      },
      "source": [
        "# Mean\n",
        "hypo[numerical_variables].mean()"
      ],
      "execution_count": 25,
      "outputs": [
        {
          "output_type": "execute_result",
          "data": {
            "text/plain": [
              "age     50.328144\n",
              "fti    115.477144\n",
              "t3       1.856111\n",
              "t4u      0.974966\n",
              "tsh      7.222276\n",
              "tt4    108.380482\n",
              "dtype: float64"
            ]
          },
          "metadata": {
            "tags": []
          },
          "execution_count": 25
        }
      ]
    },
    {
      "cell_type": "code",
      "metadata": {
        "colab": {
          "base_uri": "https://localhost:8080/"
        },
        "id": "nnH6IsvEyLRw",
        "outputId": "cdcc65f4-f68b-49f9-f6ce-aaca6d4689f9"
      },
      "source": [
        "# Median \n",
        "hypo[numerical_variables].median()"
      ],
      "execution_count": 26,
      "outputs": [
        {
          "output_type": "execute_result",
          "data": {
            "text/plain": [
              "age     48.000000\n",
              "fti    109.000000\n",
              "t3       1.600000\n",
              "t4u      0.950000\n",
              "tsh      5.076161\n",
              "tt4    102.749884\n",
              "dtype: float64"
            ]
          },
          "metadata": {
            "tags": []
          },
          "execution_count": 26
        }
      ]
    },
    {
      "cell_type": "code",
      "metadata": {
        "colab": {
          "base_uri": "https://localhost:8080/",
          "height": 80
        },
        "id": "KNGmbo6KzIxF",
        "outputId": "33e3c4ed-a36f-4011-f371-3fa431cd1184"
      },
      "source": [
        "# Mode\n",
        "hypo[numerical_variables].mode()"
      ],
      "execution_count": 27,
      "outputs": [
        {
          "output_type": "execute_result",
          "data": {
            "text/html": [
              "<div>\n",
              "<style scoped>\n",
              "    .dataframe tbody tr th:only-of-type {\n",
              "        vertical-align: middle;\n",
              "    }\n",
              "\n",
              "    .dataframe tbody tr th {\n",
              "        vertical-align: top;\n",
              "    }\n",
              "\n",
              "    .dataframe thead th {\n",
              "        text-align: right;\n",
              "    }\n",
              "</style>\n",
              "<table border=\"1\" class=\"dataframe\">\n",
              "  <thead>\n",
              "    <tr style=\"text-align: right;\">\n",
              "      <th></th>\n",
              "      <th>age</th>\n",
              "      <th>fti</th>\n",
              "      <th>t3</th>\n",
              "      <th>t4u</th>\n",
              "      <th>tsh</th>\n",
              "      <th>tt4</th>\n",
              "    </tr>\n",
              "  </thead>\n",
              "  <tbody>\n",
              "    <tr>\n",
              "      <th>0</th>\n",
              "      <td>44.077383</td>\n",
              "      <td>109.237097</td>\n",
              "      <td>1.545135</td>\n",
              "      <td>0.924314</td>\n",
              "      <td>5.076161</td>\n",
              "      <td>102.749884</td>\n",
              "    </tr>\n",
              "  </tbody>\n",
              "</table>\n",
              "</div>"
            ],
            "text/plain": [
              "         age         fti        t3       t4u       tsh         tt4\n",
              "0  44.077383  109.237097  1.545135  0.924314  5.076161  102.749884"
            ]
          },
          "metadata": {
            "tags": []
          },
          "execution_count": 27
        }
      ]
    },
    {
      "cell_type": "markdown",
      "metadata": {
        "id": "_Cj-JVhf0blW"
      },
      "source": [
        "> #### ii) Measures of Dispersion"
      ]
    },
    {
      "cell_type": "code",
      "metadata": {
        "colab": {
          "base_uri": "https://localhost:8080/"
        },
        "id": "wS4eCBX60Rsq",
        "outputId": "ea4fa719-356c-4213-915f-5a9c02b2f025"
      },
      "source": [
        "# Standard Deviation\n",
        "hypo[numerical_variables].std()"
      ],
      "execution_count": 23,
      "outputs": [
        {
          "output_type": "execute_result",
          "data": {
            "text/plain": [
              "age    18.047637\n",
              "fti    58.173722\n",
              "t3      0.888647\n",
              "t4u     0.219174\n",
              "tsh    22.191743\n",
              "tt4    43.388058\n",
              "dtype: float64"
            ]
          },
          "metadata": {
            "tags": []
          },
          "execution_count": 23
        }
      ]
    },
    {
      "cell_type": "code",
      "metadata": {
        "colab": {
          "base_uri": "https://localhost:8080/"
        },
        "id": "h1rmAYn51ByX",
        "outputId": "453a2985-4d9f-4753-ad32-96ea261861c0"
      },
      "source": [
        "# Range\n",
        "max = hypo[numerical_variables].max()\n",
        "min = hypo[numerical_variables].min()\n",
        "range = max - min\n",
        "range"
      ],
      "execution_count": 29,
      "outputs": [
        {
          "output_type": "execute_result",
          "data": {
            "text/plain": [
              "age     97.00\n",
              "fti    879.60\n",
              "t3      10.15\n",
              "t4u      2.01\n",
              "tsh    529.99\n",
              "tt4    448.00\n",
              "dtype: float64"
            ]
          },
          "metadata": {
            "tags": []
          },
          "execution_count": 29
        }
      ]
    },
    {
      "cell_type": "code",
      "metadata": {
        "colab": {
          "base_uri": "https://localhost:8080/",
          "height": 142
        },
        "id": "HJXzuIS51T9L",
        "outputId": "9c72ea9a-5d8d-4334-e95f-16190165df67"
      },
      "source": [
        "# Quantiles\n",
        "hypo[numerical_variables].quantile([0.25,0.5,0.75])"
      ],
      "execution_count": 33,
      "outputs": [
        {
          "output_type": "execute_result",
          "data": {
            "text/html": [
              "<div>\n",
              "<style scoped>\n",
              "    .dataframe tbody tr th:only-of-type {\n",
              "        vertical-align: middle;\n",
              "    }\n",
              "\n",
              "    .dataframe tbody tr th {\n",
              "        vertical-align: top;\n",
              "    }\n",
              "\n",
              "    .dataframe thead th {\n",
              "        text-align: right;\n",
              "    }\n",
              "</style>\n",
              "<table border=\"1\" class=\"dataframe\">\n",
              "  <thead>\n",
              "    <tr style=\"text-align: right;\">\n",
              "      <th></th>\n",
              "      <th>age</th>\n",
              "      <th>fti</th>\n",
              "      <th>t3</th>\n",
              "      <th>t4u</th>\n",
              "      <th>tsh</th>\n",
              "      <th>tt4</th>\n",
              "    </tr>\n",
              "  </thead>\n",
              "  <tbody>\n",
              "    <tr>\n",
              "      <th>0.25</th>\n",
              "      <td>38.0</td>\n",
              "      <td>92.0</td>\n",
              "      <td>1.5</td>\n",
              "      <td>0.86</td>\n",
              "      <td>1.200000</td>\n",
              "      <td>85.000000</td>\n",
              "    </tr>\n",
              "    <tr>\n",
              "      <th>0.50</th>\n",
              "      <td>48.0</td>\n",
              "      <td>109.0</td>\n",
              "      <td>1.6</td>\n",
              "      <td>0.95</td>\n",
              "      <td>5.076161</td>\n",
              "      <td>102.749884</td>\n",
              "    </tr>\n",
              "    <tr>\n",
              "      <th>0.75</th>\n",
              "      <td>64.0</td>\n",
              "      <td>126.0</td>\n",
              "      <td>2.2</td>\n",
              "      <td>1.06</td>\n",
              "      <td>5.076161</td>\n",
              "      <td>125.000000</td>\n",
              "    </tr>\n",
              "  </tbody>\n",
              "</table>\n",
              "</div>"
            ],
            "text/plain": [
              "       age    fti   t3   t4u       tsh         tt4\n",
              "0.25  38.0   92.0  1.5  0.86  1.200000   85.000000\n",
              "0.50  48.0  109.0  1.6  0.95  5.076161  102.749884\n",
              "0.75  64.0  126.0  2.2  1.06  5.076161  125.000000"
            ]
          },
          "metadata": {
            "tags": []
          },
          "execution_count": 33
        }
      ]
    },
    {
      "cell_type": "code",
      "metadata": {
        "colab": {
          "base_uri": "https://localhost:8080/"
        },
        "id": "WNwrsCdR1yoZ",
        "outputId": "818893f8-9ca5-498b-b0c1-6918a372ab43"
      },
      "source": [
        "# Variance\n",
        "hypo[numerical_variables].var()"
      ],
      "execution_count": 34,
      "outputs": [
        {
          "output_type": "execute_result",
          "data": {
            "text/plain": [
              "age     325.717218\n",
              "fti    3384.181982\n",
              "t3        0.789694\n",
              "t4u       0.048037\n",
              "tsh     492.473443\n",
              "tt4    1882.523605\n",
              "dtype: float64"
            ]
          },
          "metadata": {
            "tags": []
          },
          "execution_count": 34
        }
      ]
    },
    {
      "cell_type": "markdown",
      "metadata": {
        "id": "K40OFqr12Azq"
      },
      "source": [
        "> #### iii) Visualization Techniques"
      ]
    },
    {
      "cell_type": "code",
      "metadata": {
        "colab": {
          "base_uri": "https://localhost:8080/",
          "height": 350
        },
        "id": "TuwtXgPm14AJ",
        "outputId": "43740df4-46d7-40dd-c354-9ed9559895bd"
      },
      "source": [
        "# Checking for outliers in the numerical columns\n",
        "# Age\n",
        "sns.boxplot(hypo['age'], showmeans=True)"
      ],
      "execution_count": 36,
      "outputs": [
        {
          "output_type": "stream",
          "text": [
            "/usr/local/lib/python3.7/dist-packages/seaborn/_decorators.py:43: FutureWarning: Pass the following variable as a keyword arg: x. From version 0.12, the only valid positional argument will be `data`, and passing other arguments without an explicit keyword will result in an error or misinterpretation.\n",
            "  FutureWarning\n"
          ],
          "name": "stderr"
        },
        {
          "output_type": "execute_result",
          "data": {
            "text/plain": [
              "<matplotlib.axes._subplots.AxesSubplot at 0x7fa365339ad0>"
            ]
          },
          "metadata": {
            "tags": []
          },
          "execution_count": 36
        },
        {
          "output_type": "display_data",
          "data": {
            "image/png": "[encoded data removed]",
            "text/plain": [
              "<Figure size 432x288 with 1 Axes>"
            ]
          },
          "metadata": {
            "tags": [],
            "needs_background": "light"
          }
        }
      ]
    },
    {
      "cell_type": "code",
      "metadata": {
        "colab": {
          "base_uri": "https://localhost:8080/",
          "height": 350
        },
        "id": "IqD6S-jV2nkA",
        "outputId": "4cf4b2ea-3c7d-4dba-ce37-43fd73c6f02f"
      },
      "source": [
        "# Checking for outliers in the t3 hormone column\n",
        "sns.boxplot(hypo['t3'], showmeans=True)"
      ],
      "execution_count": 37,
      "outputs": [
        {
          "output_type": "stream",
          "text": [
            "/usr/local/lib/python3.7/dist-packages/seaborn/_decorators.py:43: FutureWarning: Pass the following variable as a keyword arg: x. From version 0.12, the only valid positional argument will be `data`, and passing other arguments without an explicit keyword will result in an error or misinterpretation.\n",
            "  FutureWarning\n"
          ],
          "name": "stderr"
        },
        {
          "output_type": "execute_result",
          "data": {
            "text/plain": [
              "<matplotlib.axes._subplots.AxesSubplot at 0x7fa363e77990>"
            ]
          },
          "metadata": {
            "tags": []
          },
          "execution_count": 37
        },
        {
          "output_type": "display_data",
          "data": {
            "image/png": "[encoded data removed]",
            "text/plain": [
              "<Figure size 432x288 with 1 Axes>"
            ]
          },
          "metadata": {
            "tags": [],
            "needs_background": "light"
          }
        }
      ]
    },
    {
      "cell_type": "code",
      "metadata": {
        "colab": {
          "base_uri": "https://localhost:8080/",
          "height": 350
        },
        "id": "66mXXkTS20o3",
        "outputId": "4fbc9084-5c7c-4ae7-8454-3318ccd23f93"
      },
      "source": [
        "# Checking for outliers in the t4u column\n",
        "sns.boxplot(hypo['t4u'], showmeans=True)"
      ],
      "execution_count": 38,
      "outputs": [
        {
          "output_type": "stream",
          "text": [
            "/usr/local/lib/python3.7/dist-packages/seaborn/_decorators.py:43: FutureWarning: Pass the following variable as a keyword arg: x. From version 0.12, the only valid positional argument will be `data`, and passing other arguments without an explicit keyword will result in an error or misinterpretation.\n",
            "  FutureWarning\n"
          ],
          "name": "stderr"
        },
        {
          "output_type": "execute_result",
          "data": {
            "text/plain": [
              "<matplotlib.axes._subplots.AxesSubplot at 0x7fa363e88890>"
            ]
          },
          "metadata": {
            "tags": []
          },
          "execution_count": 38
        },
        {
          "output_type": "display_data",
          "data": {
            "image/png": "[encoded data removed]",
            "text/plain": [
              "<Figure size 432x288 with 1 Axes>"
            ]
          },
          "metadata": {
            "tags": [],
            "needs_background": "light"
          }
        }
      ]
    },
    {
      "cell_type": "markdown",
      "metadata": {
        "id": "qP_Vh4oZ6LuO"
      },
      "source": [
        "Using boxplots, we can conclude that there are outliers in our numerical columns but it would be irresponsible to drop them because it will distort our data and tamper with our analysis and predictions."
      ]
    },
    {
      "cell_type": "markdown",
      "metadata": {
        "id": "LHWA-4V08uW8"
      },
      "source": [
        "# 6.0 Implementing the Solution"
      ]
    },
    {
      "cell_type": "markdown",
      "metadata": {
        "id": "1TKqWqOSp3kd"
      },
      "source": [
        "## 6.1 Decision Trees"
      ]
    },
    {
      "cell_type": "markdown",
      "metadata": {
        "id": "43ybgxvE9PZX"
      },
      "source": [
        "> ### i) Random Forest Tree"
      ]
    },
    {
      "cell_type": "code",
      "metadata": {
        "id": "bCVOtU8j1H5W"
      },
      "source": [
        "# First we can convert our categorical variables to numerical using the get_dummies function\n",
        "categorical = hypo[['sex','on_thyroxine','query_on_thyroxine','on_antithyroid_medication','thyroid_surgery','query_hypothyroid','query_hyperthyroid','pregnant','sick','tumor','lithium','goitre','tsh_measured','t3_measured','tt4_measured','t4u_measured','fti_measured']]\n",
        "\n",
        "hypo = pd.get_dummies(hypo, columns=['sex','on_thyroxine','query_on_thyroxine','on_antithyroid_medication','thyroid_surgery','query_hypothyroid','query_hyperthyroid','pregnant','sick','tumor','lithium','goitre','tsh_measured','t3_measured','tt4_measured','t4u_measured','fti_measured'])"
      ],
      "execution_count": null,
      "outputs": []
    },
    {
      "cell_type": "code",
      "metadata": {
        "id": "uWc_siV2Furb"
      },
      "source": [
        "# We define the x and y variables and store the features in a list for visualization purposes\n",
        "test_features = hypo.columns.to_list()\n",
        "test_features.remove('status')\n",
        "\n",
        "X = hypo[test_features].values\n",
        "y = hypo['status']"
      ],
      "execution_count": null,
      "outputs": []
    },
    {
      "cell_type": "code",
      "metadata": {
        "id": "_FLa6VylByaR"
      },
      "source": [
        "from sklearn.model_selection import train_test_split\n",
        "\n",
        "# Train using 70% of the data.\n",
        "X_train, X_test, y_train, y_test = train_test_split(X, y, test_size=0.3, random_state=0)"
      ],
      "execution_count": null,
      "outputs": []
    },
    {
      "cell_type": "code",
      "metadata": {
        "id": "qdjsHgOZB5uU"
      },
      "source": [
        "# Import the model\n",
        "from sklearn.ensemble import RandomForestClassifier\n",
        "\n",
        "# The random_state variable is here to guarantee that we all see the same numbers so we use 42\n",
        "# Note that we can provide the same parameters as in the decision tree, such as \n",
        "# min_samples_split or max_depth\n",
        "forest = RandomForestClassifier(n_estimators = 100, random_state=42, min_samples_split = 20, max_depth=5)\n",
        "forest = forest.fit(X_train, y_train)\n",
        "\n",
        "# Predict based on the model we've trained\n",
        "y_pred = forest.predict(X_test)"
      ],
      "execution_count": null,
      "outputs": []
    },
    {
      "cell_type": "code",
      "metadata": {
        "colab": {
          "base_uri": "https://localhost:8080/",
          "height": 173
        },
        "id": "hXBhjf0P-hnG",
        "outputId": "93fa3822-5ec4-41ad-9124-d43e7682712c"
      },
      "source": [
        "# We then create a comparison dataframe to compare the actual and predicted variables\n",
        "comparison_frame = pd.DataFrame({'Actual': y_test, 'Predicted': y_pred})\n",
        "\n",
        "comparison_frame.describe()"
      ],
      "execution_count": null,
      "outputs": [
        {
          "output_type": "execute_result",
          "data": {
            "text/html": [
              "<div>\n",
              "<style scoped>\n",
              "    .dataframe tbody tr th:only-of-type {\n",
              "        vertical-align: middle;\n",
              "    }\n",
              "\n",
              "    .dataframe tbody tr th {\n",
              "        vertical-align: top;\n",
              "    }\n",
              "\n",
              "    .dataframe thead th {\n",
              "        text-align: right;\n",
              "    }\n",
              "</style>\n",
              "<table border=\"1\" class=\"dataframe\">\n",
              "  <thead>\n",
              "    <tr style=\"text-align: right;\">\n",
              "      <th></th>\n",
              "      <th>Actual</th>\n",
              "      <th>Predicted</th>\n",
              "    </tr>\n",
              "  </thead>\n",
              "  <tbody>\n",
              "    <tr>\n",
              "      <th>count</th>\n",
              "      <td>904</td>\n",
              "      <td>904</td>\n",
              "    </tr>\n",
              "    <tr>\n",
              "      <th>unique</th>\n",
              "      <td>2</td>\n",
              "      <td>2</td>\n",
              "    </tr>\n",
              "    <tr>\n",
              "      <th>top</th>\n",
              "      <td>negative</td>\n",
              "      <td>negative</td>\n",
              "    </tr>\n",
              "    <tr>\n",
              "      <th>freq</th>\n",
              "      <td>869</td>\n",
              "      <td>877</td>\n",
              "    </tr>\n",
              "  </tbody>\n",
              "</table>\n",
              "</div>"
            ],
            "text/plain": [
              "          Actual Predicted\n",
              "count        904       904\n",
              "unique         2         2\n",
              "top     negative  negative\n",
              "freq         869       877"
            ]
          },
          "metadata": {
            "tags": []
          },
          "execution_count": 23
        }
      ]
    },
    {
      "cell_type": "code",
      "metadata": {
        "colab": {
          "base_uri": "https://localhost:8080/"
        },
        "id": "rtBlFAg5_Jqo",
        "outputId": "ab2ad3c8-b9aa-4f9e-8026-34a1d29ec3df"
      },
      "source": [
        "# We then use the confusion matrix to compare the number of correct predictions done by our model\n",
        "from sklearn.metrics import confusion_matrix \n",
        "confusion = confusion_matrix(y_test, y_pred)\n",
        "confusion\n",
        "\n",
        "# We can determine that the random forest classifier was able to make (27+869) \n",
        "# 896 correct predictions out of 904 total which is quite accurate"
      ],
      "execution_count": null,
      "outputs": [
        {
          "output_type": "execute_result",
          "data": {
            "text/plain": [
              "array([[ 27,   8],\n",
              "       [  0, 869]])"
            ]
          },
          "metadata": {
            "tags": []
          },
          "execution_count": 24
        }
      ]
    },
    {
      "cell_type": "code",
      "metadata": {
        "colab": {
          "base_uri": "https://localhost:8080/"
        },
        "id": "dgxMsuh3_jnI",
        "outputId": "f776cd21-436d-439d-fb51-c08b4c3be0a4"
      },
      "source": [
        "# We can also determine the model's prediction accuracy using the accuracy score metric\n",
        "from sklearn.metrics import accuracy_score\n",
        "accuracy = accuracy_score(y_test,y_pred)\n",
        "print(\"The accuracy of our random forest classifier is: \", accuracy*100)"
      ],
      "execution_count": null,
      "outputs": [
        {
          "output_type": "stream",
          "text": [
            "The accuracy of our random forest classifier is:  99.11504424778761\n"
          ],
          "name": "stdout"
        }
      ]
    },
    {
      "cell_type": "code",
      "metadata": {
        "colab": {
          "base_uri": "https://localhost:8080/",
          "height": 522
        },
        "id": "aIbHkunAERyz",
        "outputId": "0342bc1f-f140-49c9-ff6e-b0ad5077822a"
      },
      "source": [
        "# We can then go ahead and visualize an individual tree within our forest\n",
        "from sklearn.tree import export_graphviz\n",
        "from sklearn.externals.six import StringIO  \n",
        "from IPython.display import Image  \n",
        "import pydotplus\n",
        "\n",
        "dot_data = StringIO()\n",
        "# Pick a specific tree from the forest\n",
        "tree = forest.estimators_[45]\n",
        "\n",
        "export_graphviz(tree, out_file=dot_data,  \n",
        "                filled=True, rounded=True,\n",
        "                special_characters=True,feature_names = test_features)\n",
        "graph = pydotplus.graph_from_dot_data(dot_data.getvalue())  \n",
        "graph.write_png('hypothyroidism_forest.png')\n",
        "Image(graph.create_png())"
      ],
      "execution_count": null,
      "outputs": [
        {
          "output_type": "stream",
          "text": [
            "/usr/local/lib/python3.7/dist-packages/sklearn/externals/six.py:31: FutureWarning: The module is deprecated in version 0.21 and will be removed in version 0.23 since we've dropped support for Python 2.7. Please rely on the official version of six (https://pypi.org/project/six/).\n",
            "  \"(https://pypi.org/project/six/).\", FutureWarning)\n"
          ],
          "name": "stderr"
        },
        {
          "output_type": "execute_result",
          "data": {
            "image/png": "[encoded data removed]",
            "text/plain": [
              "<IPython.core.display.Image object>"
            ]
          },
          "metadata": {
            "tags": []
          },
          "execution_count": 26
        }
      ]
    },
    {
      "cell_type": "markdown",
      "metadata": {
        "id": "OWFNN5Y4IMdg"
      },
      "source": [
        "- From the visual, we can tell that the first test was done on the measured T3 hormone which makes sense since T3 tests are used to determine the severity of the hypothyroidism."
      ]
    },
    {
      "cell_type": "markdown",
      "metadata": {
        "id": "4QKBZ9PLKqHp"
      },
      "source": [
        "- Another important thing to note is that RF classifiers can be used to visualize feature importance which simply means showing us the features which carry the most weight in helping us predict the target variable. "
      ]
    },
    {
      "cell_type": "code",
      "metadata": {
        "colab": {
          "base_uri": "https://localhost:8080/"
        },
        "id": "bX-oJDFUFNdB",
        "outputId": "01f3419a-5f86-485a-b26b-e42c6acb2d4f"
      },
      "source": [
        "# Feature importance\n",
        "# Get numerical feature importances\n",
        "importances = list(tree.feature_importances_)\n",
        "\n",
        "# We now use some Python magic to connect each feature with its importance\n",
        "# List of tuples with variable and importance\n",
        "# round(importance, 2) simply means rounding off the importance to 2 decimal places\n",
        "feature_importances = [(feature, round(importance, 2)) for feature, importance in zip(test_features, importances)]\n",
        "\n",
        "print(feature_importances) #this already has all the information we need, but it can be tricky to see when there are too many features.\n",
        "print()\n",
        "\n",
        "# Nice to have: We can sort the values in descending order, since we care about the most important features first.\n",
        "feature_importances = sorted(feature_importances, key = lambda x: x[1], reverse = True)\n",
        "\n",
        "# Print out the feature and importances \n",
        "[print('Variable: {:20} Importance: {}'.format(*pair)) for pair in feature_importances];"
      ],
      "execution_count": null,
      "outputs": [
        {
          "output_type": "stream",
          "text": [
            "[('age', 0.01), ('tsh', 0.4), ('t3', 0.53), ('tt4', 0.0), ('t4u', 0.03), ('fti', 0.0), ('sex_0', 0.0), ('sex_F', 0.0), ('sex_M', 0.0), ('on_thyroxine_f', 0.0), ('on_thyroxine_t', 0.01), ('query_on_thyroxine_f', 0.0), ('query_on_thyroxine_t', 0.0), ('on_antithyroid_medication_f', 0.0), ('on_antithyroid_medication_t', 0.01), ('thyroid_surgery_f', 0.01), ('thyroid_surgery_t', 0.0), ('query_hypothyroid_f', 0.0), ('query_hypothyroid_t', 0.0), ('query_hyperthyroid_f', 0.0), ('query_hyperthyroid_t', 0.0), ('pregnant_f', 0.0), ('pregnant_t', 0.0), ('sick_f', 0.0), ('sick_t', 0.0), ('tumor_f', 0.0), ('tumor_t', 0.0), ('lithium_f', 0.0), ('lithium_t', 0.0), ('goitre_f', 0.0), ('goitre_t', 0.0), ('tsh_measured_n', 0.0), ('tsh_measured_y', 0.0), ('t3_measured_n', 0.01), ('t3_measured_y', 0.0), ('tt4_measured_n', 0.0), ('tt4_measured_y', 0.0), ('t4u_measured_n', 0.0), ('t4u_measured_y', 0.0), ('fti_measured_n', 0.0), ('fti_measured_y', 0.0)]\n",
            "\n",
            "Variable: t3                   Importance: 0.53\n",
            "Variable: tsh                  Importance: 0.4\n",
            "Variable: t4u                  Importance: 0.03\n",
            "Variable: age                  Importance: 0.01\n",
            "Variable: on_thyroxine_t       Importance: 0.01\n",
            "Variable: on_antithyroid_medication_t Importance: 0.01\n",
            "Variable: thyroid_surgery_f    Importance: 0.01\n",
            "Variable: t3_measured_n        Importance: 0.01\n",
            "Variable: tt4                  Importance: 0.0\n",
            "Variable: fti                  Importance: 0.0\n",
            "Variable: sex_0                Importance: 0.0\n",
            "Variable: sex_F                Importance: 0.0\n",
            "Variable: sex_M                Importance: 0.0\n",
            "Variable: on_thyroxine_f       Importance: 0.0\n",
            "Variable: query_on_thyroxine_f Importance: 0.0\n",
            "Variable: query_on_thyroxine_t Importance: 0.0\n",
            "Variable: on_antithyroid_medication_f Importance: 0.0\n",
            "Variable: thyroid_surgery_t    Importance: 0.0\n",
            "Variable: query_hypothyroid_f  Importance: 0.0\n",
            "Variable: query_hypothyroid_t  Importance: 0.0\n",
            "Variable: query_hyperthyroid_f Importance: 0.0\n",
            "Variable: query_hyperthyroid_t Importance: 0.0\n",
            "Variable: pregnant_f           Importance: 0.0\n",
            "Variable: pregnant_t           Importance: 0.0\n",
            "Variable: sick_f               Importance: 0.0\n",
            "Variable: sick_t               Importance: 0.0\n",
            "Variable: tumor_f              Importance: 0.0\n",
            "Variable: tumor_t              Importance: 0.0\n",
            "Variable: lithium_f            Importance: 0.0\n",
            "Variable: lithium_t            Importance: 0.0\n",
            "Variable: goitre_f             Importance: 0.0\n",
            "Variable: goitre_t             Importance: 0.0\n",
            "Variable: tsh_measured_n       Importance: 0.0\n",
            "Variable: tsh_measured_y       Importance: 0.0\n",
            "Variable: t3_measured_y        Importance: 0.0\n",
            "Variable: tt4_measured_n       Importance: 0.0\n",
            "Variable: tt4_measured_y       Importance: 0.0\n",
            "Variable: t4u_measured_n       Importance: 0.0\n",
            "Variable: t4u_measured_y       Importance: 0.0\n",
            "Variable: fti_measured_n       Importance: 0.0\n",
            "Variable: fti_measured_y       Importance: 0.0\n"
          ],
          "name": "stdout"
        }
      ]
    },
    {
      "cell_type": "markdown",
      "metadata": {
        "id": "xhe22yu1POrd"
      },
      "source": [
        "Since we're trying to predict whether a patient has hypothyroidism or not, the only important features we need are : \n",
        "- T3 \n",
        "- TSH\n",
        "- T4U\n",
        "\n",
        "Other features include : age, on_thyroxine, on_antithyroid_medication, thyroid_surgery and t3_measured. \n"
      ]
    },
    {
      "cell_type": "code",
      "metadata": {
        "colab": {
          "base_uri": "https://localhost:8080/",
          "height": 753
        },
        "id": "-FHmDux4Lc7s",
        "outputId": "45fc6d65-420c-42be-9b65-18dbb04d8208"
      },
      "source": [
        "# Import matplotlib for plotting the feature importance\n",
        "import matplotlib.pyplot as plt\n",
        "\n",
        "# list of x locations for plotting\n",
        "x_values = list(range(len(importances)))\n",
        "# Make a bar chart\n",
        "plt.figure(figsize = (13,10))\n",
        "plt.bar(x_values, importances, orientation = 'vertical')\n",
        "# Tick labels for x axis\n",
        "plt.xticks(x_values, test_features, rotation='vertical')\n",
        "# Axis labels and title\n",
        "plt.ylabel('Importance'); plt.xlabel('Variable'); plt.title('Variable Importances');"
      ],
      "execution_count": null,
      "outputs": [
        {
          "output_type": "display_data",
          "data": {
            "image/png": "[encoded data removed]",
            "text/plain": [
              "<Figure size 936x720 with 1 Axes>"
            ]
          },
          "metadata": {
            "tags": [],
            "needs_background": "light"
          }
        }
      ]
    },
    {
      "cell_type": "markdown",
      "metadata": {
        "id": "k_cQG87elWQY"
      },
      "source": [
        "Hyperparameter Tuning"
      ]
    },
    {
      "cell_type": "code",
      "metadata": {
        "id": "1VAvr7mPlbm8"
      },
      "source": [
        "# Define the x variable using only the most important features\n",
        "X = hypo[['t3','tsh','t4u']].values\n",
        "y = hypo['status']\n",
        "\n",
        "from sklearn.model_selection import train_test_split\n",
        "\n",
        "# Train using 70% of the data.\n",
        "X_train, X_test, y_train, y_test = train_test_split(X, y, test_size=0.3, random_state=0)"
      ],
      "execution_count": 42,
      "outputs": []
    },
    {
      "cell_type": "code",
      "metadata": {
        "id": "Nxaeal1R8ZMC"
      },
      "source": [
        "# Import the model\n",
        "from sklearn.ensemble import RandomForestClassifier\n",
        "forest = RandomForestClassifier(n_estimators = 100, random_state=42, min_samples_split = 20, max_depth=5)\n",
        "forest = forest.fit(X_train, y_train)\n",
        "\n",
        "# Predict based on the model we've trained\n",
        "y_pred1 = forest.predict(X_test)"
      ],
      "execution_count": 44,
      "outputs": []
    },
    {
      "cell_type": "code",
      "metadata": {
        "colab": {
          "base_uri": "https://localhost:8080/"
        },
        "id": "KLXMXIht8udF",
        "outputId": "bb91c33b-df88-4721-a9ea-5ee2f34e5e5f"
      },
      "source": [
        "# We then use the confusion matrix to compare the number of correct predictions done by our model\n",
        "from sklearn.metrics import confusion_matrix \n",
        "confusion = confusion_matrix(y_test, y_pred1)\n",
        "confusion"
      ],
      "execution_count": 46,
      "outputs": [
        {
          "output_type": "execute_result",
          "data": {
            "text/plain": [
              "array([[ 22,  13],\n",
              "       [  7, 862]])"
            ]
          },
          "metadata": {
            "tags": []
          },
          "execution_count": 46
        }
      ]
    },
    {
      "cell_type": "code",
      "metadata": {
        "colab": {
          "base_uri": "https://localhost:8080/"
        },
        "id": "DkP_4qxo849P",
        "outputId": "24838021-d748-4dad-8cd7-53b7c60f2724"
      },
      "source": [
        "# We can also determine the model's prediction accuracy using the accuracy score metric\n",
        "from sklearn.metrics import accuracy_score\n",
        "accuracy = accuracy_score(y_test,y_pred1)\n",
        "print(\"The accuracy of our updated random forest classifier is: \", accuracy*100)"
      ],
      "execution_count": 48,
      "outputs": [
        {
          "output_type": "stream",
          "text": [
            "The accuracy of our updated random forest classifier is:  97.78761061946902\n"
          ],
          "name": "stdout"
        }
      ]
    },
    {
      "cell_type": "markdown",
      "metadata": {
        "id": "NFzwVF8s9k75"
      },
      "source": [
        "Conclusion "
      ]
    },
    {
      "cell_type": "markdown",
      "metadata": {
        "id": "QAzRlDTc9ngT"
      },
      "source": [
        "After using only the important features; t3, t4u and tsh, we achieved a lower accuracy as compared to the original random forest classifier which can only mean that we need all the other features in our dataset in order to achieve a high prediction accuracy. "
      ]
    },
    {
      "cell_type": "markdown",
      "metadata": {
        "id": "2PwT1zMikfs7"
      },
      "source": [
        "> ### ii) AdaBoost Trees"
      ]
    },
    {
      "cell_type": "code",
      "metadata": {
        "id": "ApupWIPRlG6g"
      },
      "source": [
        "from sklearn.tree import DecisionTreeClassifier\n",
        "from sklearn.model_selection import train_test_split\n",
        "\n",
        "\n",
        "# Train using 80% of the data.\n",
        "X_train, X_test, y_train, y_test = train_test_split(X, y, test_size=0.2, random_state=0)\n",
        "\n",
        "# Create a decision tree classifier, we will set its max_depth to 5\n",
        "tree = DecisionTreeClassifier(max_depth=5)\n",
        "\n",
        "# Train it on our training set.\n",
        "tree = tree.fit(X_train, y_train)\n",
        "\n",
        "# Predict based on the model we've trained\n",
        "y_pred_tree = tree.predict(X)"
      ],
      "execution_count": null,
      "outputs": []
    },
    {
      "cell_type": "code",
      "metadata": {
        "id": "Yay5OAE1kXCR"
      },
      "source": [
        "#from sklearn.ensemble import DecisionTreeClassifier\n",
        "from sklearn.ensemble import AdaBoostClassifier\n",
        "\n",
        "# Adaboost needs a simple decision tree in its constructor. \n",
        "# Train using 80% of the data.\n",
        "X_train, X_test, y_train, y_test = train_test_split(X, y, test_size=0.2, random_state=0)\n",
        "ada_boost = AdaBoostClassifier(DecisionTreeClassifier(max_depth=5), n_estimators=300, random_state=42)\n",
        "\n",
        "ada_boost = ada_boost.fit(X_train, y_train)\n",
        "y_pred_ada = ada_boost.predict(X_test)\n"
      ],
      "execution_count": null,
      "outputs": []
    },
    {
      "cell_type": "code",
      "metadata": {
        "colab": {
          "base_uri": "https://localhost:8080/"
        },
        "id": "nmTMkzCUnlpJ",
        "outputId": "c32324a4-d383-4dff-cd3b-1cc624d97f35"
      },
      "source": [
        "# We then use the confusion matrix to compare the number of correct predictions done by our model\n",
        "from sklearn.metrics import confusion_matrix \n",
        "confusion = confusion_matrix(y_test, y_pred_ada)\n",
        "confusion"
      ],
      "execution_count": null,
      "outputs": [
        {
          "output_type": "execute_result",
          "data": {
            "text/plain": [
              "array([[ 23,   2],\n",
              "       [  2, 576]])"
            ]
          },
          "metadata": {
            "tags": []
          },
          "execution_count": 35
        }
      ]
    },
    {
      "cell_type": "code",
      "metadata": {
        "colab": {
          "base_uri": "https://localhost:8080/"
        },
        "id": "pfpvYhlXoKGJ",
        "outputId": "252d6b69-a5d0-4c74-e135-6d09cdc4bf05"
      },
      "source": [
        "# We can also determine the model's prediction accuracy using the accuracy score metric\n",
        "from sklearn.metrics import accuracy_score\n",
        "accuracy = accuracy_score(y_test,y_pred_ada)\n",
        "print(\"The accuracy of our AdaBoost classifier is: \", accuracy*100)"
      ],
      "execution_count": null,
      "outputs": [
        {
          "output_type": "stream",
          "text": [
            "The accuracy of our AdaBoost classifier is:  99.33665008291874\n"
          ],
          "name": "stdout"
        }
      ]
    },
    {
      "cell_type": "markdown",
      "metadata": {
        "id": "jDpxlkzsqKoO"
      },
      "source": [
        "## 6.2 Support Vector Machines"
      ]
    },
    {
      "cell_type": "markdown",
      "metadata": {
        "id": "xUcWivxJXvSU"
      },
      "source": [
        "> ### i) Linear SVC "
      ]
    },
    {
      "cell_type": "code",
      "metadata": {
        "id": "NDZIC6nfrQ2J"
      },
      "source": [
        "# Import the SVC and the linearSVC from the sklearn.svm library\n",
        "from sklearn.svm import SVC,LinearSVC"
      ],
      "execution_count": null,
      "outputs": []
    },
    {
      "cell_type": "code",
      "metadata": {
        "colab": {
          "base_uri": "https://localhost:8080/",
          "height": 437
        },
        "id": "cXODLESYqQaX",
        "outputId": "47672723-c222-43fd-a313-756b56d07cd9"
      },
      "source": [
        "# We plot a graph using the most important features to spot if we can use SVM for classification purposes\n",
        "sns.lmplot('t3', 'tsh', data=hypo, hue='status', palette='Set1', fit_reg=False, scatter_kws={\"s\": 70});"
      ],
      "execution_count": null,
      "outputs": [
        {
          "output_type": "stream",
          "text": [
            "/usr/local/lib/python3.7/dist-packages/seaborn/_decorators.py:43: FutureWarning: Pass the following variables as keyword args: x, y. From version 0.12, the only valid positional argument will be `data`, and passing other arguments without an explicit keyword will result in an error or misinterpretation.\n",
            "  FutureWarning\n"
          ],
          "name": "stderr"
        },
        {
          "output_type": "display_data",
          "data": {
            "image/png": "[encoded data removed]",
            "text/plain": [
              "<Figure size 455.75x360 with 1 Axes>"
            ]
          },
          "metadata": {
            "tags": [],
            "needs_background": "light"
          }
        }
      ]
    },
    {
      "cell_type": "code",
      "metadata": {
        "id": "WPFvqFyfuQXw"
      },
      "source": [
        "# We define the x and y variables and store the features in a list for visualization purposes\n",
        "test_features = hypo.columns.to_list()\n",
        "test_features.remove('status')\n",
        "\n",
        "X = hypo[test_features].values\n",
        "y = hypo['status']"
      ],
      "execution_count": null,
      "outputs": []
    },
    {
      "cell_type": "code",
      "metadata": {
        "id": "UzFbVCFNWN6b"
      },
      "source": [
        "# Train using 80% of the data.\n",
        "X_train, X_test, y_train, y_test = train_test_split(X, y, test_size=0.2, random_state=0)"
      ],
      "execution_count": null,
      "outputs": []
    },
    {
      "cell_type": "code",
      "metadata": {
        "id": "DEV5eieOWgou"
      },
      "source": [
        "# Fit the model\n",
        "linear = SVC(kernel= 'linear')\n",
        "linear.fit(X_train,y_train)\n",
        "\n",
        "# Predict the response for the test set\n",
        "y_pred_linear = linear.predict(X_test)"
      ],
      "execution_count": null,
      "outputs": []
    },
    {
      "cell_type": "code",
      "metadata": {
        "colab": {
          "base_uri": "https://localhost:8080/"
        },
        "id": "A5tOCNU-W2R2",
        "outputId": "636707f9-1f0b-4738-9fa5-95909bfc1c89"
      },
      "source": [
        "# Checking the number of correct prediction using the confusion matrix\n",
        "\n",
        "print(confusion_matrix(y_test, y_pred_linear))"
      ],
      "execution_count": null,
      "outputs": [
        {
          "output_type": "stream",
          "text": [
            "[[ 19   6]\n",
            " [  3 575]]\n"
          ],
          "name": "stdout"
        }
      ]
    },
    {
      "cell_type": "code",
      "metadata": {
        "colab": {
          "base_uri": "https://localhost:8080/"
        },
        "id": "vCbPlra1XRZc",
        "outputId": "dd43d093-a0e3-407e-b1f7-7a6f4c41484f"
      },
      "source": [
        "# Accuracy score of the linear SVC model\n",
        "print('The accuracy score of the linear SVC model is :', accuracy_score(y_test,y_pred_linear)*100)\n"
      ],
      "execution_count": null,
      "outputs": [
        {
          "output_type": "stream",
          "text": [
            "The accuracy score of the linear SVC model is : 98.50746268656717\n"
          ],
          "name": "stdout"
        }
      ]
    },
    {
      "cell_type": "markdown",
      "metadata": {
        "id": "rr1u2njDXqdB"
      },
      "source": [
        "> ### ii) Polynomial SVC"
      ]
    },
    {
      "cell_type": "code",
      "metadata": {
        "id": "uuqFHNs3XhzZ"
      },
      "source": [
        "# Building the model \n",
        "poly = SVC(kernel='poly', degree=5, gamma='scale')\n",
        "# Training the model using the training set\n",
        "poly.fit(X_train, y_train)\n",
        "\n",
        "# Predicting the status using the polynomial function\n",
        "y_pred_poly = poly.predict(X_test)"
      ],
      "execution_count": null,
      "outputs": []
    },
    {
      "cell_type": "code",
      "metadata": {
        "colab": {
          "base_uri": "https://localhost:8080/"
        },
        "id": "4TCv7jE_YQLG",
        "outputId": "cde4fd91-d5fc-42d1-8fc4-f62427a9289d"
      },
      "source": [
        "# Checking the number of correct prediction using the confusion matrix\n",
        "\n",
        "print(confusion_matrix(y_test, y_pred_poly))"
      ],
      "execution_count": null,
      "outputs": [
        {
          "output_type": "stream",
          "text": [
            "[[  3  22]\n",
            " [  1 577]]\n"
          ],
          "name": "stdout"
        }
      ]
    },
    {
      "cell_type": "code",
      "metadata": {
        "colab": {
          "base_uri": "https://localhost:8080/"
        },
        "id": "2UaG3mGvYyVp",
        "outputId": "9db9ca56-b0c9-4974-c15a-e0dc12485e19"
      },
      "source": [
        "# Accuracy score of the polynomial SVC\n",
        "print('The accuracy score of the polynomial SVC model is :', accuracy_score(y_test,y_pred_poly)*100)\n"
      ],
      "execution_count": null,
      "outputs": [
        {
          "output_type": "stream",
          "text": [
            "The accuracy score of the polynomial SVC model is : 96.18573797678275\n"
          ],
          "name": "stdout"
        }
      ]
    },
    {
      "cell_type": "markdown",
      "metadata": {
        "id": "BUR5SO08ZBKx"
      },
      "source": [
        "> ### iii) Radial Basis Function"
      ]
    },
    {
      "cell_type": "code",
      "metadata": {
        "id": "D5CrWAfJZGFy"
      },
      "source": [
        "# Build the model\n",
        "rbf = SVC(kernel='rbf', degree=5)\n",
        "# Training the model using the training set\n",
        "rbf.fit(X_train, y_train)\n",
        "\n",
        "y_pred_rbf = rbf.predict(X_test)"
      ],
      "execution_count": null,
      "outputs": []
    },
    {
      "cell_type": "code",
      "metadata": {
        "colab": {
          "base_uri": "https://localhost:8080/"
        },
        "id": "mIKEHv8DiGeZ",
        "outputId": "48b2883e-8e70-4e33-c17a-70b9ea9699ed"
      },
      "source": [
        "# Checking the number of correct prediction using the confusion matrix\n",
        "\n",
        "print(confusion_matrix(y_test, y_pred_rbf))"
      ],
      "execution_count": null,
      "outputs": [
        {
          "output_type": "stream",
          "text": [
            "[[ 18   7]\n",
            " [  3 575]]\n"
          ],
          "name": "stdout"
        }
      ]
    },
    {
      "cell_type": "code",
      "metadata": {
        "colab": {
          "base_uri": "https://localhost:8080/"
        },
        "id": "YYKtw2zBiWDc",
        "outputId": "54d786e0-7f3f-434c-8879-06f1b1e4c59e"
      },
      "source": [
        "# Accuracy score OF THE rbf SVC\n",
        "print('The accuracy score of the rbf SVC model is :', accuracy_score(y_test,y_pred_rbf)*100)\n"
      ],
      "execution_count": null,
      "outputs": [
        {
          "output_type": "stream",
          "text": [
            "The accuracy score of the rbf SVC model is : 98.34162520729684\n"
          ],
          "name": "stdout"
        }
      ]
    },
    {
      "cell_type": "markdown",
      "metadata": {
        "id": "tAAww8s9-TLC"
      },
      "source": [
        "Conclusion "
      ]
    },
    {
      "cell_type": "markdown",
      "metadata": {
        "id": "IiaSscHm-VdD"
      },
      "source": [
        "- After analyzing all our support vector machines, we established that the linear SVC gave us the highest accuracy score as compared to the other support vector classifiers followed by the radial basis function SVC. \n",
        "- This could go to show that our target data is not polynomial thus using the polynomial SVC would be wrong since it gave us the lowest accuracy score of 96.18% as compared to the other SVC models. \n"
      ]
    },
    {
      "cell_type": "markdown",
      "metadata": {
        "id": "38fBU8itigdN"
      },
      "source": [
        "# 7.0 Challenging the Solution"
      ]
    },
    {
      "cell_type": "markdown",
      "metadata": {
        "id": "3E8yf-Sli_yG"
      },
      "source": [
        "- Considering we did use random forest classifier and ada boost classifier as our decision trees, we could challenge the solution using the gradient boosted classifier and compare their accuracies. "
      ]
    },
    {
      "cell_type": "markdown",
      "metadata": {
        "id": "_jm7V8ShlA1d"
      },
      "source": [
        "> ## Gradient Boosted Tree"
      ]
    },
    {
      "cell_type": "code",
      "metadata": {
        "id": "FvdjNs0tiyj2"
      },
      "source": [
        "# Using the Gradient Boosted Classifier\n",
        "from sklearn.ensemble import GradientBoostingClassifier\n",
        "target_number_of_trees = 300\n",
        "\n",
        "gbr = GradientBoostingClassifier(n_estimators=target_number_of_trees, learning_rate=0.01, max_depth=2)\n",
        "gbr = gbr.fit(X_train, y_train)\n",
        "\n",
        "y_pred_gbr = gbr.predict(X_test)"
      ],
      "execution_count": null,
      "outputs": []
    },
    {
      "cell_type": "code",
      "metadata": {
        "colab": {
          "base_uri": "https://localhost:8080/"
        },
        "id": "L6ssxjlMkGeW",
        "outputId": "6c6b80ec-6ff2-4121-9bc5-fed94cc354b2"
      },
      "source": [
        "# We then use the confusion matrix to compare the number of correct predictions done by our model\n",
        "from sklearn.metrics import confusion_matrix \n",
        "confusion = confusion_matrix(y_test, y_pred_gbr)\n",
        "confusion"
      ],
      "execution_count": null,
      "outputs": [
        {
          "output_type": "execute_result",
          "data": {
            "text/plain": [
              "array([[ 23,   2],\n",
              "       [  1, 577]])"
            ]
          },
          "metadata": {
            "tags": []
          },
          "execution_count": 57
        }
      ]
    },
    {
      "cell_type": "code",
      "metadata": {
        "colab": {
          "base_uri": "https://localhost:8080/"
        },
        "id": "Hh77WPv4kS7S",
        "outputId": "a8ca904e-5f84-4a6a-a171-2c08c2ec18fd"
      },
      "source": [
        "# We can also determine the model's prediction accuracy using the accuracy score metric\n",
        "from sklearn.metrics import accuracy_score\n",
        "accuracy = accuracy_score(y_test,y_pred_gbr)\n",
        "print(\"The accuracy of our GradientBoosted classifier is: \", accuracy*100)"
      ],
      "execution_count": null,
      "outputs": [
        {
          "output_type": "stream",
          "text": [
            "The accuracy of our GradientBoosted classifier is:  99.50248756218906\n"
          ],
          "name": "stdout"
        }
      ]
    },
    {
      "cell_type": "markdown",
      "metadata": {
        "id": "_thxxGw_uRVW"
      },
      "source": [
        "- We can conclude that after setting our learning rate to 0.01, we achieve the highest accuracy score of 99.50% as compared to the other decision trees."
      ]
    },
    {
      "cell_type": "markdown",
      "metadata": {
        "id": "lpzYPgCivA0p"
      },
      "source": [
        "# 8.0 Recommendations"
      ]
    },
    {
      "cell_type": "markdown",
      "metadata": {
        "id": "KxpZpcPzvEtv"
      },
      "source": [
        "- When it comes to predicting whether a patient has hypothyroidism or not, we recommend that we use the gradient boosted classifier since it gave us the highest accuracy as compared to all the other decision trees and also the Support Vector Machines. \n",
        "- To achieve the highest prediction accuracy using the gradient boosted classifier, we recommend setting the learning rate to 0.01 and the maximum tree depth to 2. "
      ]
    }
  ]
}